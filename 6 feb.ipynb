{
 "cells": [
  {
   "cell_type": "markdown",
   "id": "009d247c-1c44-4132-a991-955f057f9b81",
   "metadata": {},
   "source": [
    "Q.1"
   ]
  },
  {
   "cell_type": "code",
   "execution_count": 4,
   "id": "9ebf5ae1-b99d-44ff-915c-f4c41369af2a",
   "metadata": {},
   "outputs": [],
   "source": [
    "def flat_list(l):\n",
    "    flist = []\n",
    "    for item in l:\n",
    "        if type(item) == int :\n",
    "            flist.append(item) \n",
    "            \n",
    "        elif type(item) == list:\n",
    "            for i in item:\n",
    "                if type(i)== int:\n",
    "                    flist.append(i) \n",
    "                    \n",
    "        elif type(item) ==  set :\n",
    "            for i in item :\n",
    "                if type(i) == int :\n",
    "                    flist.append(i) \n",
    "                    \n",
    "        elif type(item) == tuple :\n",
    "            for i in item :\n",
    "                if type(i) == int :\n",
    "                    flist.append(i) \n",
    "                    \n",
    "        elif type(item) == dict :\n",
    "            for i in item.keys():\n",
    "                if type(i) == int :\n",
    "                    flist.append(i) \n",
    "                \n",
    "                    \n",
    "            for j in item.values():\n",
    "                if type(j) == int:\n",
    "                    flist.append(j) \n",
    "                    \n",
    "                elif type(j) == list :\n",
    "                    for p in j :\n",
    "                        if type(p) == int :\n",
    "                            flist.append(p) \n",
    "                elif type(j) == set :\n",
    "                    for p in j :\n",
    "                        if type(p) == int :\n",
    "                            flist.append(p)\n",
    "                        \n",
    "             \n",
    "                    \n",
    "    list_mul = 1\n",
    "    for i in flist:\n",
    "        list_mul = list_mul * i \n",
    "    return list_mul"
   ]
  },
  {
   "cell_type": "code",
   "execution_count": 5,
   "id": "c573bb9a-aad9-4b7c-ad16-ce90008a4848",
   "metadata": {},
   "outputs": [],
   "source": [
    "in_list = [1,2,3,4, [44,55,66, True], False, (34,56,78,89,34), {1,2,3,3,2,1}, {1:34, \"key2\": [55, 67, 78, 89], 4: (45,\n",
    "22, 61, 34)}, [56, 'data science'], 'Machine Learning']"
   ]
  },
  {
   "cell_type": "code",
   "execution_count": 6,
   "id": "5ed68093-cd33-432d-8bef-00e46fbf10c2",
   "metadata": {},
   "outputs": [
    {
     "data": {
      "text/plain": [
       "2013730282081706885067571200"
      ]
     },
     "execution_count": 6,
     "metadata": {},
     "output_type": "execute_result"
    }
   ],
   "source": [
    "flat_list(in_list)"
   ]
  },
  {
   "cell_type": "markdown",
   "id": "7b4b8b11-a1fe-4a25-beda-3b58dfa3ccee",
   "metadata": {},
   "source": [
    "Q.2"
   ]
  },
  {
   "cell_type": "code",
   "execution_count": 7,
   "id": "0a3f4da0-41ec-482c-8242-e2718d4d87e8",
   "metadata": {},
   "outputs": [],
   "source": [
    "def encrypting(in_str):\n",
    "    role = {'a':'z','b':'y','c':'z',' ':'$'}\n",
    "    encrypting_str = ''\n",
    "    in_str = in_str.lower()\n",
    "    \n",
    "    for i in in_str:\n",
    "        if i in role:\n",
    "            encrypting_str += role[i] \n",
    "        else :\n",
    "            encrypting_str += i \n",
    "    return encrypting_str "
   ]
  },
  {
   "cell_type": "code",
   "execution_count": 8,
   "id": "65d0c953-a28e-498e-9cb4-6b2f0f1344f0",
   "metadata": {},
   "outputs": [],
   "source": [
    "in_str = \"I want to become a Data Scientist.\" "
   ]
  },
  {
   "cell_type": "code",
   "execution_count": 9,
   "id": "d6d6f648-8aae-4bfc-8cf9-bace032c11ab",
   "metadata": {},
   "outputs": [
    {
     "data": {
      "text/plain": [
       "'i$wznt$to$yezome$z$dztz$szientist.'"
      ]
     },
     "execution_count": 9,
     "metadata": {},
     "output_type": "execute_result"
    }
   ],
   "source": [
    "encrypting(in_str)"
   ]
  },
  {
   "cell_type": "code",
   "execution_count": null,
   "id": "4c9aa9e4-c5de-423c-835d-ba04ab98820f",
   "metadata": {},
   "outputs": [],
   "source": []
  }
 ],
 "metadata": {
  "kernelspec": {
   "display_name": "Python 3 (ipykernel)",
   "language": "python",
   "name": "python3"
  },
  "language_info": {
   "codemirror_mode": {
    "name": "ipython",
    "version": 3
   },
   "file_extension": ".py",
   "mimetype": "text/x-python",
   "name": "python",
   "nbconvert_exporter": "python",
   "pygments_lexer": "ipython3",
   "version": "3.10.8"
  }
 },
 "nbformat": 4,
 "nbformat_minor": 5
}
